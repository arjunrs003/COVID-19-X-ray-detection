{
 "cells": [
  {
   "cell_type": "code",
   "execution_count": null,
   "id": "823e1398",
   "metadata": {},
   "outputs": [],
   "source": [
    "! pip install tensorflow "
   ]
  },
  {
   "cell_type": "code",
   "execution_count": null,
   "id": "33e31be5",
   "metadata": {},
   "outputs": [],
   "source": [
    "!pip install split-folders"
   ]
  },
  {
   "cell_type": "code",
   "execution_count": 3,
   "id": "f79db51a",
   "metadata": {},
   "outputs": [],
   "source": [
    "import os\n",
    "import numpy as np\n",
    "import pandas as pd\n",
    "import glob\n",
    "import cv2 as cv\n",
    "import caer\n",
    "import canaro\n"
   ]
  },
  {
   "cell_type": "code",
   "execution_count": 4,
   "id": "9e80c897",
   "metadata": {},
   "outputs": [],
   "source": [
    "import splitfolders"
   ]
  },
  {
   "cell_type": "code",
   "execution_count": 5,
   "id": "3ddc728a",
   "metadata": {},
   "outputs": [],
   "source": [
    "os.chdir('F:\\Data Science Study material\\Futura labs MT')"
   ]
  },
  {
   "cell_type": "code",
   "execution_count": 6,
   "id": "a824e4bf",
   "metadata": {},
   "outputs": [
    {
     "data": {
      "text/plain": [
       "'F:\\\\Data Science Study material\\\\Futura labs MT'"
      ]
     },
     "execution_count": 6,
     "metadata": {},
     "output_type": "execute_result"
    }
   ],
   "source": [
    "os.getcwd()"
   ]
  },
  {
   "cell_type": "code",
   "execution_count": 7,
   "id": "52edffae",
   "metadata": {},
   "outputs": [],
   "source": [
    "input_folder='F:\\Data Science Study material\\Futura labs MT\\COVID-19_Radiography_Dataset'"
   ]
  },
  {
   "cell_type": "code",
   "execution_count": 8,
   "id": "2d232e35",
   "metadata": {},
   "outputs": [
    {
     "name": "stderr",
     "output_type": "stream",
     "text": [
      "Copying files: 15153 files [05:02, 50.16 files/s]\n"
     ]
    }
   ],
   "source": [
    "splitfolders.ratio(input_folder,output='F:\\Data Science Study material\\Futura labs MT\\COVID_19',seed=42,ratio=(0.7,0.2,0.1),group_prefix=None)"
   ]
  },
  {
   "cell_type": "code",
   "execution_count": 9,
   "id": "4a197d9e",
   "metadata": {},
   "outputs": [],
   "source": [
    "import keras\n",
    "from keras.layers import *\n",
    "from keras.models import *\n",
    "from keras.preprocessing import image"
   ]
  },
  {
   "cell_type": "code",
   "execution_count": 34,
   "id": "b60b0a2b",
   "metadata": {},
   "outputs": [],
   "source": [
    "#CNN based model in keras \n",
    "model=Sequential()\n",
    "model.add(Conv2D(32,kernel_size=(3,3),activation='relu',input_shape=(299,299,3)))\n",
    "model.add(Conv2D(64,(3,3),activation='relu'))\n",
    "model.add(MaxPooling2D(pool_size=(2,2)))\n",
    "model.add(Dropout(0.25))\n",
    "\n",
    "\n",
    "model.add(Conv2D(64,(3,3),activation='relu'))\n",
    "model.add(MaxPooling2D(pool_size=(2,2)))\n",
    "model.add(Dropout(0.25))\n",
    "\n",
    "model.add(Conv2D(128,(3,3),activation='relu'))\n",
    "model.add(MaxPooling2D(pool_size=(2,2)))\n",
    "model.add(Dropout(0.25))\n",
    "\n",
    "model.add(Flatten())\n",
    "model.add(Dense(64,activation='relu'))\n",
    "model.add(Dropout(0.5))\n",
    "model.add(Dense(3, activation='sigmoid'))\n",
    "\n",
    "model.compile(loss=keras.losses.binary_crossentropy,optimizer='adam',metrics=['accuracy'])\n",
    "\n",
    "    \n"
   ]
  },
  {
   "cell_type": "code",
   "execution_count": 35,
   "id": "99b4f01a",
   "metadata": {},
   "outputs": [
    {
     "name": "stdout",
     "output_type": "stream",
     "text": [
      "Model: \"sequential_1\"\n",
      "_________________________________________________________________\n",
      " Layer (type)                Output Shape              Param #   \n",
      "=================================================================\n",
      " conv2d_4 (Conv2D)           (None, 297, 297, 32)      896       \n",
      "                                                                 \n",
      " conv2d_5 (Conv2D)           (None, 295, 295, 64)      18496     \n",
      "                                                                 \n",
      " max_pooling2d_3 (MaxPooling  (None, 147, 147, 64)     0         \n",
      " 2D)                                                             \n",
      "                                                                 \n",
      " dropout_4 (Dropout)         (None, 147, 147, 64)      0         \n",
      "                                                                 \n",
      " conv2d_6 (Conv2D)           (None, 145, 145, 64)      36928     \n",
      "                                                                 \n",
      " max_pooling2d_4 (MaxPooling  (None, 72, 72, 64)       0         \n",
      " 2D)                                                             \n",
      "                                                                 \n",
      " dropout_5 (Dropout)         (None, 72, 72, 64)        0         \n",
      "                                                                 \n",
      " conv2d_7 (Conv2D)           (None, 70, 70, 128)       73856     \n",
      "                                                                 \n",
      " max_pooling2d_5 (MaxPooling  (None, 35, 35, 128)      0         \n",
      " 2D)                                                             \n",
      "                                                                 \n",
      " dropout_6 (Dropout)         (None, 35, 35, 128)       0         \n",
      "                                                                 \n",
      " flatten_1 (Flatten)         (None, 156800)            0         \n",
      "                                                                 \n",
      " dense_2 (Dense)             (None, 64)                10035264  \n",
      "                                                                 \n",
      " dropout_7 (Dropout)         (None, 64)                0         \n",
      "                                                                 \n",
      " dense_3 (Dense)             (None, 3)                 195       \n",
      "                                                                 \n",
      "=================================================================\n",
      "Total params: 10,165,635\n",
      "Trainable params: 10,165,635\n",
      "Non-trainable params: 0\n",
      "_________________________________________________________________\n"
     ]
    }
   ],
   "source": [
    "model.summary()"
   ]
  },
  {
   "cell_type": "code",
   "execution_count": 36,
   "id": "a66b88ef",
   "metadata": {},
   "outputs": [],
   "source": [
    "from keras.wrappers.scikit_learn import KerasClassifier\n",
    "from sklearn.model_selection import KFold"
   ]
  },
  {
   "cell_type": "code",
   "execution_count": 13,
   "id": "af0e6b6e",
   "metadata": {},
   "outputs": [],
   "source": [
    "train_datagen=image.ImageDataGenerator(\n",
    "rescale=1./255,\n",
    "shear_range=0.2,\n",
    "zoom_range=0.2,\n",
    "horizontal_flip=True)\n",
    "\n",
    "test_dataset= image.ImageDataGenerator(rescale=1/255)"
   ]
  },
  {
   "cell_type": "code",
   "execution_count": 14,
   "id": "a858cb4f",
   "metadata": {},
   "outputs": [
    {
     "name": "stdout",
     "output_type": "stream",
     "text": [
      "Found 10606 images belonging to 3 classes.\n"
     ]
    }
   ],
   "source": [
    "train_generator=train_datagen.flow_from_directory(\n",
    "'F:/Data Science Study material/Futura labs MT/COVID_19/train',\n",
    "target_size=(224,224),\n",
    "batch_size=32,\n",
    "class_mode='categorical')"
   ]
  },
  {
   "cell_type": "code",
   "execution_count": 15,
   "id": "57974918",
   "metadata": {},
   "outputs": [
    {
     "data": {
      "text/plain": [
       "{'COVID': 0, 'Normal': 1, 'Viral Pneumonia': 2}"
      ]
     },
     "execution_count": 15,
     "metadata": {},
     "output_type": "execute_result"
    }
   ],
   "source": [
    "train_generator.class_indices"
   ]
  },
  {
   "cell_type": "code",
   "execution_count": 16,
   "id": "715f4667",
   "metadata": {},
   "outputs": [
    {
     "name": "stdout",
     "output_type": "stream",
     "text": [
      "Found 4547 images belonging to 3 classes.\n"
     ]
    }
   ],
   "source": [
    "validation_generator=test_dataset.flow_from_directory(\n",
    "'F:/Data Science Study material/Futura labs MT/COVID_19/val',\n",
    "target_size=(224,224),\n",
    "batch_size=32,\n",
    "class_mode='categorical')"
   ]
  },
  {
   "cell_type": "code",
   "execution_count": 17,
   "id": "84b0bf15",
   "metadata": {},
   "outputs": [
    {
     "name": "stderr",
     "output_type": "stream",
     "text": [
      "<ipython-input-17-36fd4f111deb>:1: UserWarning: `Model.fit_generator` is deprecated and will be removed in a future version. Please use `Model.fit`, which supports generators.\n",
      "  hist= model.fit_generator(\n"
     ]
    },
    {
     "name": "stdout",
     "output_type": "stream",
     "text": [
      "Epoch 1/10\n",
      "8/8 [==============================] - 255s 31s/step - loss: 0.7584 - accuracy: 0.5625 - val_loss: 0.5126 - val_accuracy: 0.7344\n",
      "Epoch 2/10\n",
      "8/8 [==============================] - 242s 30s/step - loss: 0.5816 - accuracy: 0.6562 - val_loss: 0.5901 - val_accuracy: 0.7812\n",
      "Epoch 3/10\n",
      "8/8 [==============================] - 223s 30s/step - loss: 0.5101 - accuracy: 0.6891 - val_loss: 0.5195 - val_accuracy: 0.6875\n",
      "Epoch 4/10\n",
      "8/8 [==============================] - 242s 30s/step - loss: 0.5743 - accuracy: 0.6328 - val_loss: 0.5851 - val_accuracy: 0.6562\n",
      "Epoch 5/10\n",
      "8/8 [==============================] - 251s 32s/step - loss: 0.5276 - accuracy: 0.6328 - val_loss: 0.5737 - val_accuracy: 0.6406\n",
      "Epoch 6/10\n",
      "8/8 [==============================] - 246s 31s/step - loss: 0.5197 - accuracy: 0.6680 - val_loss: 0.5165 - val_accuracy: 0.6250\n",
      "Epoch 7/10\n",
      "8/8 [==============================] - 241s 30s/step - loss: 0.5383 - accuracy: 0.6445 - val_loss: 0.5163 - val_accuracy: 0.7031\n",
      "Epoch 8/10\n",
      "8/8 [==============================] - 240s 30s/step - loss: 0.4869 - accuracy: 0.6914 - val_loss: 0.4722 - val_accuracy: 0.6406\n",
      "Epoch 9/10\n",
      "8/8 [==============================] - 237s 30s/step - loss: 0.4307 - accuracy: 0.7344 - val_loss: 0.4377 - val_accuracy: 0.6875\n",
      "Epoch 10/10\n",
      "8/8 [==============================] - 241s 30s/step - loss: 0.4615 - accuracy: 0.6680 - val_loss: 0.4347 - val_accuracy: 0.7188\n"
     ]
    }
   ],
   "source": [
    "hist= model.fit_generator(\n",
    "      train_generator,\n",
    "      steps_per_epoch=8,\n",
    "      epochs=10,\n",
    "      validation_data=validation_generator,\n",
    "      validation_steps=2)"
   ]
  },
  {
   "cell_type": "code",
   "execution_count": null,
   "id": "a3c03c30",
   "metadata": {},
   "outputs": [],
   "source": [
    "#testing"
   ]
  },
  {
   "cell_type": "code",
   "execution_count": 19,
   "id": "f3d10e6c",
   "metadata": {},
   "outputs": [],
   "source": [
    "from tensorflow.keras.preprocessing.image import load_img\n",
    "from tensorflow.keras.utils import img_to_array\n",
    "\n"
   ]
  },
  {
   "cell_type": "code",
   "execution_count": 38,
   "id": "cd1c6b5a",
   "metadata": {},
   "outputs": [],
   "source": [
    "path = \"F:/Data Science Study material/Futura labs MT/COVID_19/val/COVID/COVID-19.png\"\n",
    "img = load_img(path,target_size= (299,299))\n",
    "\n",
    "img = img_to_array(img)/255\n",
    "img = np.array([img])\n",
    "#img.shape"
   ]
  },
  {
   "cell_type": "code",
   "execution_count": 39,
   "id": "7668b5e2",
   "metadata": {},
   "outputs": [
    {
     "data": {
      "text/plain": [
       "array([[[[0.01568628, 0.01568628, 0.01568628],\n",
       "         [0.02745098, 0.02745098, 0.02745098],\n",
       "         [0.02352941, 0.02352941, 0.02352941],\n",
       "         ...,\n",
       "         [0.01960784, 0.01960784, 0.01960784],\n",
       "         [0.01960784, 0.01960784, 0.01960784],\n",
       "         [0.01568628, 0.01568628, 0.01568628]],\n",
       "\n",
       "        [[0.01960784, 0.01960784, 0.01960784],\n",
       "         [0.02745098, 0.02745098, 0.02745098],\n",
       "         [0.02745098, 0.02745098, 0.02745098],\n",
       "         ...,\n",
       "         [0.02352941, 0.02352941, 0.02352941],\n",
       "         [0.02352941, 0.02352941, 0.02352941],\n",
       "         [0.01960784, 0.01960784, 0.01960784]],\n",
       "\n",
       "        [[0.01568628, 0.01568628, 0.01568628],\n",
       "         [0.02352941, 0.02352941, 0.02352941],\n",
       "         [0.02745098, 0.02745098, 0.02745098],\n",
       "         ...,\n",
       "         [0.02352941, 0.02352941, 0.02352941],\n",
       "         [0.02352941, 0.02352941, 0.02352941],\n",
       "         [0.01960784, 0.01960784, 0.01960784]],\n",
       "\n",
       "        ...,\n",
       "\n",
       "        [[0.02745098, 0.02745098, 0.02745098],\n",
       "         [0.03921569, 0.03921569, 0.03921569],\n",
       "         [0.04313726, 0.04313726, 0.04313726],\n",
       "         ...,\n",
       "         [0.02352941, 0.02352941, 0.02352941],\n",
       "         [0.01960784, 0.01960784, 0.01960784],\n",
       "         [0.01960784, 0.01960784, 0.01960784]],\n",
       "\n",
       "        [[0.03137255, 0.03137255, 0.03137255],\n",
       "         [0.03921569, 0.03921569, 0.03921569],\n",
       "         [0.03921569, 0.03921569, 0.03921569],\n",
       "         ...,\n",
       "         [0.02352941, 0.02352941, 0.02352941],\n",
       "         [0.02352941, 0.02352941, 0.02352941],\n",
       "         [0.01960784, 0.01960784, 0.01960784]],\n",
       "\n",
       "        [[0.01960784, 0.01960784, 0.01960784],\n",
       "         [0.02745098, 0.02745098, 0.02745098],\n",
       "         [0.02745098, 0.02745098, 0.02745098],\n",
       "         ...,\n",
       "         [0.01568628, 0.01568628, 0.01568628],\n",
       "         [0.01176471, 0.01176471, 0.01176471],\n",
       "         [0.01176471, 0.01176471, 0.01176471]]]], dtype=float32)"
      ]
     },
     "execution_count": 39,
     "metadata": {},
     "output_type": "execute_result"
    }
   ],
   "source": [
    "img"
   ]
  },
  {
   "cell_type": "code",
   "execution_count": 40,
   "id": "474c2274",
   "metadata": {},
   "outputs": [
    {
     "name": "stdout",
     "output_type": "stream",
     "text": [
      "1/1 [==============================] - 1s 789ms/step\n"
     ]
    },
    {
     "data": {
      "text/plain": [
       "array([[0.5232397 , 0.50667393, 0.5027051 ]], dtype=float32)"
      ]
     },
     "execution_count": 40,
     "metadata": {},
     "output_type": "execute_result"
    }
   ],
   "source": [
    "predict_x=model.predict(img) \n",
    "predict_x"
   ]
  },
  {
   "cell_type": "code",
   "execution_count": 41,
   "id": "29882cc1",
   "metadata": {},
   "outputs": [
    {
     "data": {
      "text/plain": [
       "array([0], dtype=int64)"
      ]
     },
     "execution_count": 41,
     "metadata": {},
     "output_type": "execute_result"
    }
   ],
   "source": [
    "#predict_x=model.predict(img) \n",
    "classes_x=np.argmax(predict_x,axis=1)\n",
    "classes_x\n"
   ]
  },
  {
   "cell_type": "code",
   "execution_count": null,
   "id": "939b141a",
   "metadata": {},
   "outputs": [],
   "source": []
  }
 ],
 "metadata": {
  "kernelspec": {
   "display_name": "Python 3",
   "language": "python",
   "name": "python3"
  },
  "language_info": {
   "codemirror_mode": {
    "name": "ipython",
    "version": 3
   },
   "file_extension": ".py",
   "mimetype": "text/x-python",
   "name": "python",
   "nbconvert_exporter": "python",
   "pygments_lexer": "ipython3",
   "version": "3.8.8"
  }
 },
 "nbformat": 4,
 "nbformat_minor": 5
}
